{
  "nbformat": 4,
  "nbformat_minor": 0,
  "metadata": {
    "colab": {
      "name": "Otimização Rastrigin.ipynb",
      "provenance": [],
      "collapsed_sections": []
    },
    "kernelspec": {
      "display_name": "Python 3",
      "name": "python3"
    },
    "language_info": {
      "name": "python"
    }
  },
  "cells": [
    {
      "cell_type": "code",
      "metadata": {
        "colab": {
          "base_uri": "https://localhost:8080/"
        },
        "id": "lcEYGy7fUwBa",
        "outputId": "2ad71ba9-1d32-4b38-9d42-018a0d0cb576"
      },
      "source": [
        "import numpy as np\n",
        "import matplotlib.pyplot as plt\n",
        "import math\n",
        "import random\n",
        "from numpy import linalg as LA\n",
        "!pip install ipython-autotime\n",
        "%load_ext autotime"
      ],
      "execution_count": null,
      "outputs": [
        {
          "output_type": "stream",
          "text": [
            "Requirement already satisfied: ipython-autotime in /usr/local/lib/python3.7/dist-packages (0.3.1)\n",
            "Requirement already satisfied: ipython in /usr/local/lib/python3.7/dist-packages (from ipython-autotime) (5.5.0)\n",
            "Requirement already satisfied: decorator in /usr/local/lib/python3.7/dist-packages (from ipython->ipython-autotime) (4.4.2)\n",
            "Requirement already satisfied: traitlets>=4.2 in /usr/local/lib/python3.7/dist-packages (from ipython->ipython-autotime) (5.0.5)\n",
            "Requirement already satisfied: setuptools>=18.5 in /usr/local/lib/python3.7/dist-packages (from ipython->ipython-autotime) (57.0.0)\n",
            "Requirement already satisfied: simplegeneric>0.8 in /usr/local/lib/python3.7/dist-packages (from ipython->ipython-autotime) (0.8.1)\n",
            "Requirement already satisfied: pickleshare in /usr/local/lib/python3.7/dist-packages (from ipython->ipython-autotime) (0.7.5)\n",
            "Requirement already satisfied: pygments in /usr/local/lib/python3.7/dist-packages (from ipython->ipython-autotime) (2.6.1)\n",
            "Requirement already satisfied: prompt-toolkit<2.0.0,>=1.0.4 in /usr/local/lib/python3.7/dist-packages (from ipython->ipython-autotime) (1.0.18)\n",
            "Requirement already satisfied: pexpect; sys_platform != \"win32\" in /usr/local/lib/python3.7/dist-packages (from ipython->ipython-autotime) (4.8.0)\n",
            "Requirement already satisfied: ipython-genutils in /usr/local/lib/python3.7/dist-packages (from traitlets>=4.2->ipython->ipython-autotime) (0.2.0)\n",
            "Requirement already satisfied: six>=1.9.0 in /usr/local/lib/python3.7/dist-packages (from prompt-toolkit<2.0.0,>=1.0.4->ipython->ipython-autotime) (1.15.0)\n",
            "Requirement already satisfied: wcwidth in /usr/local/lib/python3.7/dist-packages (from prompt-toolkit<2.0.0,>=1.0.4->ipython->ipython-autotime) (0.2.5)\n",
            "Requirement already satisfied: ptyprocess>=0.5 in /usr/local/lib/python3.7/dist-packages (from pexpect; sys_platform != \"win32\"->ipython->ipython-autotime) (0.7.0)\n",
            "The autotime extension is already loaded. To reload it, use:\n",
            "  %reload_ext autotime\n",
            "time: 2.44 s (started: 2021-06-21 21:19:53 +00:00)\n"
          ],
          "name": "stdout"
        }
      ]
    },
    {
      "cell_type": "markdown",
      "metadata": {
        "id": "qjvkHmHTqWoB"
      },
      "source": [
        "###FSA"
      ]
    },
    {
      "cell_type": "code",
      "metadata": {
        "colab": {
          "base_uri": "https://localhost:8080/"
        },
        "id": "tVxTVx4b1Io1",
        "outputId": "c1eac437-e957-431f-8c66-73be1c2da81b"
      },
      "source": [
        "#semana 1\n",
        "#D = 20 epsilon = 1e-3 T0 = 1 N = 1e6 k_max = 20 #tempo=00:21:19 #Jmin = 0.07\n",
        "#D = 20; epsilon = 0.01; T0 = 1; N = 1e6; k_max = 20;  #tempo=00:21:52 #Jmin = 0.18                                   \n",
        "#D = 20; epsilon = 0.1; T0 = 1; N = 1e6; k_max = 20;  #tempo= 00:22:18 #Jmin = 21.41\n",
        "#D = 20; epsilon = 0.5; T0 = 1; N = 1e6; k_max = 20;  #tempo= 00:23:20  #Jmin = 99.81                                                                                                                                                                                                                                                                                                                                                                                                                                                                                                                                                                                                                                                                                                                                                                                                                                                                                                                                                                                                                                                                                                                                                                                                                                                                                                                                                                                                                                                                                                                                                                                                                                                                                                                                                                                                                                                                                                                                                                                                                                                                                                                                                                                                                                                                                                                                                                                                                                                                                                                                                                                                                                                                                                                                                                                                                                                                                                                                                                                                                                                                                                                                                                                                                                                                                                                                                                                                                                                                                                                                                                                                       #tempo= #Jmin = \n",
        "#D = 20; epsilon = 1e-3; T0 = 10; N = 1e6; k_max = 20; #tempo=00:22:00 #Jmin = 1.36\n",
        "#D = 20; epsilon = 1e-3; T0 = 0.1; N = 1e6; k_max = 20; #tempo=00:21:50  #Jmin = 0.008                               \n",
        "#D = 20; epsilon = 1e-3; T0 = 0.01; N = 1e6; k_max = 20; #tempo=00:22:12  #Jmin = 0.001\n",
        "#D = 20; epsilon = 1e-3; T0 = 0.01; N = 1e5; k_max = 20; #tempo= 00:02:10 #Jmin = 0.002 \n",
        "#D = 20; epsilon = 1e-3; T0 = 0.01; N = 1e4; k_max = 20; #tempo= 00:00:13  #Jmin =0.004\n",
        "#D = 20; epsilon = 1e-3; T0 = 0.01; N = 1e6; k_max = 40; #tempo=:00:43:43  #Jmin = 0.001\n",
        "#D = 20; epsilon = 1e-3; T0 = 0.01; N = 1e6; k_max = 80; #tempo=1:29:00 #Jmin = 0.0008  \n",
        "#D = 20; epsilon = 1e-3; T0 = 0.01; N = 1e6; k_max = 160;#tempo= 02:57:33 #Jmin= 0.0007 # MELHOR RESULTADO\n",
        "#D = 30; epsilon = 1e-3; T0 = 0.01; N = 1e6; k_max = 80;#tempo=02:10:32 #Jmin=0.003\n",
        "\n",
        "#semana 2\n",
        "#D = 30; epsilon = 1e-3; T0 = 0.01; N = 1e6; k_max = 80;#tempo= 01:36:16  #Jmin= 0.003\n",
        "#D = 40; epsilon = 1e-3; T0 = 0.01; N = 1e6; k_max = 80;#tempo=01:34:14  #Jmin= 0.007\n",
        "#D = 50; epsilon = 1e-3; T0 = 0.01; N = 1e6; k_max = 80;#tempo= 01:45:07  #Jmin= 0.017\n",
        "#D = 60; epsilon = 1e-3; T0 = 0.01; N = 1e6; k_max = 80;#tempo= 01:55:13  #Jmin= 0.03\n",
        "#D = 70; epsilon = 1e-3; T0 = 0.01; N = 1e6; k_max = 80;#tempo=02:02:15 #Jmin= 0.049\n",
        "#D = 4; epsilon = 0.8; T0 = 1; N = 1e5; k_max = 20; #tempo=00:01:34  #Jmin = 0.40\n",
        "#D = 100; epsilon = 1e-3; T0 = 0.01; N = 1e6; k_max = 80;#tempo=02:30:02 #Jmin= 0.12\n",
        "D = 120; epsilon = 1e-3; T0 = 0.01; N = 1e6; k_max = 80;#tempo= #Jmin= \n",
        "#D = 3; epsilon = 0.8; T0 = 1; N = 1e5; k_max = 20; #tempo=00:01:34  #Jmin = 0.03\n",
        "#D = 3; epsilon = 0.8; T0 = 30; N = 1e6; k_max = 40; #tempo=00:31:46 #Jmin = 0.01"
      ],
      "execution_count": null,
      "outputs": [
        {
          "output_type": "stream",
          "text": [
            "time: 4.78 ms (started: 2021-06-21 21:19:55 +00:00)\n"
          ],
          "name": "stdout"
        }
      ]
    },
    {
      "cell_type": "code",
      "metadata": {
        "colab": {
          "base_uri": "https://localhost:8080/"
        },
        "id": "BUXny_c4lLOD",
        "outputId": "776557a1-24b7-4898-820a-28a0d4c874cd"
      },
      "source": [
        "D"
      ],
      "execution_count": null,
      "outputs": [
        {
          "output_type": "execute_result",
          "data": {
            "text/plain": [
              "120"
            ]
          },
          "metadata": {
            "tags": []
          },
          "execution_count": 21
        },
        {
          "output_type": "stream",
          "text": [
            "time: 7.15 ms (started: 2021-06-21 21:19:55 +00:00)\n"
          ],
          "name": "stdout"
        }
      ]
    },
    {
      "cell_type": "markdown",
      "metadata": {
        "id": "I1QurL5DSl1m"
      },
      "source": [
        ""
      ]
    },
    {
      "cell_type": "code",
      "metadata": {
        "colab": {
          "base_uri": "https://localhost:8080/"
        },
        "id": "Zg2Wti90-7Lv",
        "outputId": "060a3fa4-ca14-4d5d-8e1e-0066e5911394"
      },
      "source": [
        "def Rastrigin(arr):\n",
        " \n",
        "    return 10*arr.size + np.sum(arr**2) - 10*np.sum(np.cos(2*math.pi*arr))"
      ],
      "execution_count": null,
      "outputs": [
        {
          "output_type": "stream",
          "text": [
            "time: 2.87 ms (started: 2021-06-21 21:19:55 +00:00)\n"
          ],
          "name": "stdout"
        }
      ]
    },
    {
      "cell_type": "code",
      "metadata": {
        "colab": {
          "base_uri": "https://localhost:8080/"
        },
        "id": "FIBI3DrmEPEJ",
        "outputId": "c97dc54c-05ab-433e-9452-52d70a7d408a"
      },
      "source": [
        "T = T0\n",
        "k=1 "
      ],
      "execution_count": null,
      "outputs": [
        {
          "output_type": "stream",
          "text": [
            "time: 1.3 ms (started: 2021-06-21 21:19:55 +00:00)\n"
          ],
          "name": "stdout"
        }
      ]
    },
    {
      "cell_type": "code",
      "metadata": {
        "colab": {
          "base_uri": "https://localhost:8080/"
        },
        "id": "wcUR700pLSUM",
        "outputId": "31354499-fd11-4c48-a19b-9077d733e94c"
      },
      "source": [
        "X = 10.24*(np.random.random(D))\n",
        "J = Rastrigin(X)\n",
        "X_min = X\n",
        "J_min = J\n",
        "n = 0\n",
        "J_record = np.zeros(k_max)\n",
        "J_all = np.zeros(int(k_max*N))\n",
        "counter = 0"
      ],
      "execution_count": null,
      "outputs": [
        {
          "output_type": "stream",
          "text": [
            "time: 59.2 ms (started: 2021-06-21 21:19:55 +00:00)\n"
          ],
          "name": "stdout"
        }
      ]
    },
    {
      "cell_type": "code",
      "metadata": {
        "colab": {
          "background_save": true,
          "base_uri": "https://localhost:8080/"
        },
        "id": "7489cVDeQWto",
        "outputId": "bcd48151-64ac-47fb-a281-b4894ccee925"
      },
      "source": [
        "while (k <= k_max):\n",
        "    n = n + 1\n",
        "    X_hat = X + epsilon*np.random.standard_cauchy(np.shape(X))\n",
        "    for i in range(D):\n",
        "        if (X_hat[i] > 5.12):\n",
        "            X_hat[i] = X_hat[i] - 10.24\n",
        "        elif (X_hat[i] < -5.12):\n",
        "            X_hat[i] = X_hat[i] + 10.24\n",
        "        \n",
        "    J = Rastrigin(X)\n",
        "    J_hat = Rastrigin(X_hat)\n",
        "    delta_J = J - J_hat\n",
        "    J_all[counter] = J\n",
        "    if random.random() < np.exp(delta_J/T):\n",
        "        X = X_hat\n",
        "        J = J_hat\n",
        "    if (J < J_min):\n",
        "       J_min = J;\n",
        "       X_min = X;\n",
        "    \n",
        "    if (n%N == 0):\n",
        "        J_record[k-1] = J_min\n",
        "        print(k)\n",
        "        k = k +1\n",
        "        T = T0/(k + 1)\n",
        "    \n",
        "    counter = counter+1\n"
      ],
      "execution_count": null,
      "outputs": [
        {
          "output_type": "stream",
          "text": [
            "/usr/local/lib/python3.7/dist-packages/ipykernel_launcher.py:14: RuntimeWarning: overflow encountered in exp\n",
            "  \n"
          ],
          "name": "stderr"
        },
        {
          "output_type": "stream",
          "text": [
            "1\n",
            "2\n",
            "3\n",
            "4\n",
            "5\n",
            "6\n",
            "7\n",
            "8\n",
            "9\n",
            "10\n",
            "11\n",
            "12\n",
            "13\n",
            "14\n"
          ],
          "name": "stdout"
        }
      ]
    },
    {
      "cell_type": "code",
      "metadata": {
        "id": "annOJl1jbowz"
      },
      "source": [
        "J_min"
      ],
      "execution_count": null,
      "outputs": []
    },
    {
      "cell_type": "code",
      "metadata": {
        "id": "QMXu1VRrkiGr"
      },
      "source": [
        "X_min"
      ],
      "execution_count": null,
      "outputs": []
    },
    {
      "cell_type": "code",
      "metadata": {
        "id": "0E6cbnIimLGM"
      },
      "source": [
        "X"
      ],
      "execution_count": null,
      "outputs": []
    },
    {
      "cell_type": "code",
      "metadata": {
        "id": "kMWX9Q0DgEBz"
      },
      "source": [
        "plt.rc('font',size=16,weight='bold')\n",
        "plt.figure\n",
        "plt.plot(J_all[int(J_all.size*0.1):-1])\n",
        "plt.xlabel('Iteração')\n",
        "plt.ylabel('J')"
      ],
      "execution_count": null,
      "outputs": []
    }
  ]
}